{
 "cells": [
  {
   "cell_type": "markdown",
   "metadata": {},
   "source": [
    "style"
   ]
  },
  {
   "cell_type": "code",
   "execution_count": null,
   "metadata": {
    "vscode": {
     "languageId": "plaintext"
    }
   },
   "outputs": [],
   "source": [
    "<link rel=\"stylesheet\" href=\"https://unpkg.com/@yaireo/tagify/dist/tagify.css\">\n",
    "    <style>\n",
    "        .users-list {\n",
    "            max-height: 300px;\n",
    "            overflow-y: auto;\n",
    "        }\n",
    "        .tagify__dropdown__item {\n",
    "            display: flex;\n",
    "            align-items: center;\n",
    "            padding: 10px;\n",
    "        }\n",
    "    </style>"
   ]
  },
  {
   "cell_type": "markdown",
   "metadata": {},
   "source": [
    "html code"
   ]
  },
  {
   "cell_type": "code",
   "execution_count": null,
   "metadata": {
    "vscode": {
     "languageId": "plaintext"
    }
   },
   "outputs": [],
   "source": [
    "<input class=\"form-control d-flex align-items-center\" value=\"\" placeholder=\"write some tags\" id=\"kt_tagify_users\" />"
   ]
  },
  {
   "cell_type": "markdown",
   "metadata": {},
   "source": [
    "js"
   ]
  },
  {
   "cell_type": "code",
   "execution_count": null,
   "metadata": {
    "vscode": {
     "languageId": "plaintext"
    }
   },
   "outputs": [],
   "source": [
    "\n",
    "    <script src=\"https://unpkg.com/@yaireo/tagify\"></script>\n",
    "    <script>\n",
    "        var inputElm = document.querySelector('#kt_tagify_users');\n",
    "\n",
    "        const usersList = [\n",
    "            { value: 1, name: 'Emma Smith', avatar: 'avatars/300-6.jpg', email: 'e.smith@kpmg.com.au' },\n",
    "            { value: 2, name: 'Max Smith', avatar: 'avatars/300-1.jpg', email: 'max@kt.com' },\n",
    "            { value: 3, name: 'Sean Bean', avatar: 'avatars/300-5.jpg', email: 'sean@dellito.com' },\n",
    "            { value: 4, name: 'Brian Cox', avatar: 'avatars/300-25.jpg', email: 'brian@exchange.com' },\n",
    "            { value: 5, name: 'Francis Mitcham', avatar: 'avatars/300-9.jpg', email: 'f.mitcham@kpmg.com.au' },\n",
    "            { value: 6, name: 'Dan Wilson', avatar: 'avatars/300-23.jpg', email: 'dam@consilting.com' },\n",
    "            { value: 7, name: 'Ana Crown', avatar: 'avatars/300-12.jpg', email: 'ana.cf@limtel.com' },\n",
    "            { value: 8, name: 'John Miller', avatar: 'avatars/300-13.jpg', email: 'miller@mapple.com' }\n",
    "        ];\n",
    "\n",
    "        function tagTemplate(tagData) {\n",
    "            return `\n",
    "                <tag title=\"${(tagData.title || tagData.email)}\"\n",
    "                        contenteditable='false'\n",
    "                        spellcheck='false'\n",
    "                        tabIndex=\"-1\"\n",
    "                        class=\"${this.settings.classNames.tag} ${tagData.class ? tagData.class : \"\"}\"\n",
    "                        ${this.getAttributes(tagData)}>\n",
    "                    <x title='' class='tagify__tag__removeBtn' role='button' aria-label='remove tag'></x>\n",
    "                    <div class=\"d-flex align-items-center\">\n",
    "                        <div class='tagify__tag__avatar-wrap ps-0'>\n",
    "                            <img onerror=\"this.style.visibility='hidden'\" class=\"rounded-circle w-25px me-2\" src=\"assets/media/${tagData.avatar}\">\n",
    "                        </div>\n",
    "                        <span class='tagify__tag-text'>${tagData.name}</span>\n",
    "                    </div>\n",
    "                </tag>\n",
    "            `\n",
    "        }\n",
    "\n",
    "        function suggestionItemTemplate(tagData) {\n",
    "            return `\n",
    "                <div ${this.getAttributes(tagData)}\n",
    "                    class='tagify__dropdown__item d-flex align-items-center ${tagData.class ? tagData.class : \"\"}'\n",
    "                    tabindex=\"0\"\n",
    "                    role=\"option\">\n",
    "\n",
    "                    ${tagData.avatar ? `\n",
    "                            <div class='tagify__dropdown__item__avatar-wrap me-2'>\n",
    "                                <img onerror=\"this.style.visibility='hidden'\"  class=\"rounded-circle w-50px me-2\" src=\"assets/media/${tagData.avatar}\">\n",
    "                            </div>` : ''\n",
    "                        }\n",
    "\n",
    "                    <div class=\"d-flex flex-column\">\n",
    "                        <strong>${tagData.name}</strong>\n",
    "                        <span>${tagData.email}</span>\n",
    "                    </div>\n",
    "                </div>\n",
    "            `\n",
    "        }\n",
    "\n",
    "        var tagify = new Tagify(inputElm, {\n",
    "            tagTextProp: 'name',\n",
    "            enforceWhitelist: true,\n",
    "            skipInvalid: true,\n",
    "            dropdown: {\n",
    "                closeOnSelect: false,\n",
    "                enabled: 0,\n",
    "                classname: 'users-list',\n",
    "                searchKeys: ['name', 'email']\n",
    "            },\n",
    "            templates: {\n",
    "                tag: tagTemplate,\n",
    "                dropdownItem: suggestionItemTemplate\n",
    "            },\n",
    "            whitelist: usersList\n",
    "        });\n",
    "\n",
    "        tagify.on('dropdown:show dropdown:updated', onDropdownShow)\n",
    "        tagify.on('dropdown:select', onSelectSuggestion)\n",
    "\n",
    "        var addAllSuggestionsElm;\n",
    "\n",
    "        function onDropdownShow(e) {\n",
    "            var dropdownContentElm = e.detail.tagify.DOM.dropdown.content;\n",
    "\n",
    "            if (tagify.suggestedListItems.length > 1) {\n",
    "                addAllSuggestionsElm = getAddAllSuggestionsElm();\n",
    "\n",
    "                dropdownContentElm.insertBefore(addAllSuggestionsElm, dropdownContentElm.firstChild);\n",
    "            }\n",
    "        }\n",
    "\n",
    "        function onSelectSuggestion(e) {\n",
    "            if (e.detail.elm == addAllSuggestionsElm)\n",
    "                tagify.dropdown.selectAll.call(tagify);\n",
    "        }\n",
    "\n",
    "        function getAddAllSuggestionsElm() {\n",
    "            return tagify.parseTemplate('dropdownItem', [{\n",
    "                class: \"addAll\",\n",
    "                name: \"Add all\",\n",
    "                email: tagify.settings.whitelist.reduce(function (remainingSuggestions, item) {\n",
    "                    return tagify.isTagDuplicate(item.value) ? remainingSuggestions : remainingSuggestions + 1;\n",
    "                }, 0) + \" Members\"\n",
    "            }]);\n",
    "        }\n",
    "    </script>\n"
   ]
  },
  {
   "cell_type": "markdown",
   "metadata": {},
   "source": [
    "form\n"
   ]
  },
  {
   "cell_type": "code",
   "execution_count": null,
   "metadata": {
    "vscode": {
     "languageId": "plaintext"
    }
   },
   "outputs": [],
   "source": [
    "from django.contrib.auth.models import User\n",
    "from django.db.models import Q\n",
    "import json\n",
    "from django.core.serializers.json import DjangoJSONEncoder\n",
    " \n",
    " \n",
    " user_tasks = Task.objects.filter(\n",
    "            Q(assigned_to=user) | \n",
    "            Q(created_by=user) | \n",
    "            Q(project=project)  # Assuming `owner` is the field for project owner\n",
    "        )\n",
    "\n",
    "\n",
    "        self.fields['tasks'] = forms.CharField(\n",
    "            widget=forms.Textarea(attrs={\n",
    "                'class': 'form-control',\n",
    "                'id': 'related_file_multi_sekect',\n",
    "                'name': 'tags',\n",
    "                'placeholder': 'Related Tasks',\n",
    "                \n",
    "                # 'whitelist': ','.join([f\" task/ {task.id} : {task.title} \" for task in user_tasks])  # Comma-separated list of task titles\n",
    "                # 'whitelist': '[{\"value\":1,\"name\":\"Emma Smith\",\"file_type\":\"pdf\",\"email\":\"e.smith@kpmg.com.au\"},{\"value\":2,\"name\":\"Max Smith\",\"file_type\":\"doc\",\"email\":\"max@kt.com\"},{\"value\":3,\"name\":\"Sean Bean\",\"file_type\":\"image\",\"email\":\"sean@dellito.com\"},{\"value\":4,\"name\":\"Brian Cox\",\"file_type\":\"txt\",\"email\":\"brian@exchange.com\"},{\"value\":5,\"name\":\"Francis Mitcham\",\"file_type\":\"pdf\",\"email\":\"f.mitcham@kpmg.com.au\"},{\"value\":6,\"name\":\"Dan Wilson\",\"file_type\":\"bin\",\"email\":\"dam@consilting.com\"},{\"value\":7,\"name\":\"Ana Crown\",\"file_type\":\"txt\",\"email\":\"ana.cf@limtel.com\"},{\"value\":8,\"name\":\"John Miller\",\"file_type\":\"image\",\"email\":\"miller@mapple.com\"}]'\n",
    "                'whitelist': json.dumps(\n",
    "                                            [\n",
    "                                                {\n",
    "                                                    \"value\": task.id,\n",
    "                                                    \"name\": task.title,\n",
    "                                                    \"file_type\": \"bin\",  # Replace with actual logic if applicable\n",
    "                                                    \"email\": task.description,\n",
    "                                                }\n",
    "                                                for task in user_tasks\n",
    "                                            ],\n",
    "                                            cls=DjangoJSONEncoder\n",
    "                                        )\n",
    "\n",
    "               })\n",
    "        )"
   ]
  }
 ],
 "metadata": {
  "language_info": {
   "name": "python"
  }
 },
 "nbformat": 4,
 "nbformat_minor": 2
}
